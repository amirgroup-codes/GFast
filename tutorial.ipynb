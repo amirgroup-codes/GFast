{
 "cells": [
  {
   "cell_type": "markdown",
   "metadata": {},
   "source": [
    "## GFAST Tutorial ##\n",
    "This notebook will walk through a basic example using GFAST. \n",
    "\n",
    "We will first create an example signal for purposes of the tutorial. Then, we will use GFAST to recover the Fourier coefficients. Running GFast can be broken down into three steps:\n",
    "1. Querying GFast for datapoints to sample \n",
    "2. Computing the samples\n",
    "3. Running GFast"
   ]
  },
  {
   "cell_type": "code",
   "execution_count": 1,
   "metadata": {},
   "outputs": [],
   "source": [
    "#importing necessary packages\n",
    "import numpy as np\n",
    "import matplotlib.pyplot as plt\n",
    "import os\n",
    "import sys\n",
    "from gfast.utils import get_banned_indices_from_qs, load_data, save_data\n",
    "from synt_exp.synt_src.synthetic_signal import get_random_signal\n",
    "from pathlib import Path\n",
    "sys.path.append('gfp_exp')\n",
    "from src.helper import Helper\n",
    "np.random.seed(42)"
   ]
  },
  {
   "cell_type": "markdown",
   "metadata": {},
   "source": [
    "# 0. Generating an example signal\n",
    "For this tutorial, we will generate a simple signal to run GFast on. Here, we've specified the following parameters:\n",
    "- `qs`: the alphabet size at each position ($\\mathbf{q} = [4, 4, 3, 3, 3, 4]$)\n",
    "- `n = 6`: the total number of positions in the signal\n",
    "- `sparsity = 9`: the number of non-zero Fourier coefficients ($S=9$)\n",
    "\n",
    "The variable `banned_indices` is used to specify the alphabets at each site of the signal that are not present compared to the maximum alphabet size in `qs`. This is mostly useful in real-world experiments where the alphabets correspond to some real input (e.g. an amino acid sequence). Note that `noise_sd` is used here to generate the signal. In a real world experiment, the only use of `noise_sd` is to determine the cutoff for the energy of each subsampled Fourier transform, and can be treated as a hyperparameter."
   ]
  },
  {
   "cell_type": "code",
   "execution_count": 2,
   "metadata": {},
   "outputs": [
    {
     "name": "stdout",
     "output_type": "stream",
     "text": [
      "noise sd: 0.9486832980505138\n",
      "banned indices: {2: [3], 3: [3], 4: [3]}\n"
     ]
    }
   ],
   "source": [
    "qs = np.array([4, 4, 3, 3, 3, 4])\n",
    "q = np.max(qs)\n",
    "n = len(qs)\n",
    "N = np.prod(qs)\n",
    "sparsity = 9\n",
    "a_min = 1\n",
    "a_max = 1\n",
    "SNR = 10\n",
    "noise_sd = np.sqrt((sparsity * a_max**2) / (10**(SNR / 10)))\n",
    "print('noise sd:', noise_sd)\n",
    "banned_indices = get_banned_indices_from_qs(qs, q)\n",
    "print('banned indices:', banned_indices)\n",
    "full_signal = get_random_signal(n, q, noise_sd/N, sparsity, a_min, a_max, banned_indices=banned_indices, banned_indices_toggle=True)\n",
    "# for now, all we care about is the time_domain\n",
    "signal_t = full_signal.signal_t"
   ]
  },
  {
   "cell_type": "markdown",
   "metadata": {},
   "source": [
    "### Visualize the Fourier coefficients"
   ]
  },
  {
   "cell_type": "code",
   "execution_count": 3,
   "metadata": {},
   "outputs": [
    {
     "data": {
      "text/plain": [
       "<StemContainer object of 3 artists>"
      ]
     },
     "execution_count": 3,
     "metadata": {},
     "output_type": "execute_result"
    },
    {
     "data": {
      "image/png": "[encoded data removed]",
      "text/plain": [
       "<Figure size 640x480 with 1 Axes>"
      ]
     },
     "metadata": {},
     "output_type": "display_data"
    }
   ],
   "source": [
    "plt.stem(np.real(np.ravel(full_signal.signal_w)))"
   ]
  },
  {
   "cell_type": "markdown",
   "metadata": {},
   "source": [
    "# 1. Querying GFast for datapoints to sample "
   ]
  },
  {
   "cell_type": "markdown",
   "metadata": {},
   "source": [
    "## Hyperparameters\n",
    "\n",
    "GFast has three main hyperparameters: `b`, `num_subsample`, and `num_repeat`.\n",
    "- `b`: the inner dimension of the subsampled matrices\n",
    "- `num_subsample` ($C$): the number of subsampling matrices $M_c$ to make\n",
    "- `num_repeat`: the number of times to repeat the subsampling\n",
    "\n",
    "While we want to find `b` such that, theoretically, each $B_c = O(S)$, in practice we hyperparameter tune `b` to be the smallest value that recovers the signal. From here, we set `num_subsample` to be $n//b$. To run NR-GFAST, we ideally want `num_repeat` to be $n$ to satisfy theoretical guarentees. However, this can also be hyperparameter tuned to be the smallest value that recovers the signal. If you're running GFast instead, then `num_repeat` is locked to 1.\n",
    "\n",
    "For this tutorial, we'll use `b = 2`, `num_subsample = 6//2 = 3`, and `num_repeat = 6`."
   ]
  },
  {
   "cell_type": "code",
   "execution_count": 4,
   "metadata": {},
   "outputs": [],
   "source": [
    "b = 2\n",
    "num_subsample = n//b\n",
    "num_repeat = n"
   ]
  },
  {
   "cell_type": "markdown",
   "metadata": {},
   "source": [
    "`delays_method_source` should always be set to `identity` to create the partial identity subsampling matrices $M_c$. `delays_method_channel` is set to `nr` to run NR-GFast and `identity` to run GFast."
   ]
  },
  {
   "cell_type": "code",
   "execution_count": 5,
   "metadata": {},
   "outputs": [],
   "source": [
    "delays_method_source = 'identity'\n",
    "delays_method_channel = 'nr'"
   ]
  },
  {
   "cell_type": "markdown",
   "metadata": {},
   "source": [
    "## Creating the Helper Class\n",
    "Now that we have defined all hyperparameters, we can create the helper class. This class will be used to generate the training and test data, and to run the experiment. All of our data will be stored in the `tutorial_results` folder.  This code is directly implemented in `get_qary_indices.py` from the `gfp_exp` folder. First, we need to generate all the query indices: these are the points in the signal where we need to sample the function. We can compute these values later in the next step."
   ]
  },
  {
   "cell_type": "code",
   "execution_count": 6,
   "metadata": {},
   "outputs": [
    {
     "name": "stdout",
     "output_type": "stream",
     "text": [
      "exited\n"
     ]
    }
   ],
   "source": [
    "base_dir = Path('')\n",
    "newfolder = 'tutorial_results'\n",
    "exp_dir = base_dir / newfolder\n",
    "exp_dir.mkdir(parents=True, exist_ok=True)\n",
    "query_args = {\n",
    "    \"query_method\": 'generate_samples', # specify this for step 1\n",
    "    \"train_samples\": 'simple', \n",
    "    \"method\": \"generate_samples\", # specify this for step 1\n",
    "    \"num_subsample\": num_subsample,\n",
    "    \"num_repeat\": num_repeat,\n",
    "    \"b\": b,\n",
    "    \"folder\": exp_dir,\n",
    "    \"delays_method_channel\": delays_method_channel\n",
    "}\n",
    "signal_args = {\n",
    "    \"n\":n,\n",
    "    \"q\":q,\n",
    "    \"query_args\":query_args,\n",
    "    \"len_seq\":n,\n",
    "    \"banned_indices_toggle\": True,\n",
    "    \"banned_indices\": banned_indices,\n",
    "    \"delays_method_channel\": delays_method_channel\n",
    "    }\n",
    "test_args = {\n",
    "        \"n_samples\": 100,\n",
    "        \"method\": \"generate_samples\" # specify this for step 1\n",
    "    }\n",
    "file_path = os.path.join(exp_dir, 'train', 'samples')\n",
    "if not os.path.exists(file_path):\n",
    "    os.makedirs(file_path, exist_ok=True)\n",
    "file_path = os.path.join(exp_dir, 'test')\n",
    "if not os.path.exists(file_path):\n",
    "    os.makedirs(file_path, exist_ok=True)\n",
    "\n",
    "try:\n",
    "    helper = Helper(signal_args=signal_args,\n",
    "                    methods=[\"gfast\"],\n",
    "                    subsampling_args=query_args,\n",
    "                    test_args=test_args,\n",
    "                    exp_dir=exp_dir)\n",
    "except SystemExit:\n",
    "    print(\"exited\")"
   ]
  },
  {
   "cell_type": "markdown",
   "metadata": {},
   "source": [
    "Let's examine the folder structure:\n",
    "\n",
    "`train`: contains the training data GFast will use to sample\n",
    "\n",
    "`train/samples`: folder location for the query indices\n",
    "- `M{i}_D{j}_qaryindices.pickle`: pickle file containing the query indices to sample from the $i^{\\text{th}}$ subsampling matrix and $j^{\\text{th}}$ repeat. These indices are encoded into their mixed-radix representation of the indices.\n",
    "- `M{i}_D{j}_queryindices.pickle`: pickle file containing the query indices to sample from the $i^{\\text{th}}$ subsampling matrix and $j^{\\text{th}}$ repeat. Contains a `num_samples` x `n` numpy array of indices to sample from. This contains the exact information as `M{i}_D{j}_qaryindices.pickle`, but is more readable.\n",
    "\n",
    "`train/transforms`: folder location for the subsampled Fourier transforms $U_c$\n",
    "\n",
    "`test`: contains the random query indices GFast will use to test the recovered Fourier coefficients on\n",
    "- `test/signal_t_query_qaryindices.pickle`: pickle file containing the random query indices to sample, encoded into their mixed-radix representation of the indices.\n",
    "- `test/signal_t_queryindices.pickle`: pickle file containing the random query indices to sample, containing a `n` x `num_samples` numpy array of indices to sample from."
   ]
  },
  {
   "cell_type": "markdown",
   "metadata": {},
   "source": [
    "# 2. Computing the samples"
   ]
  },
  {
   "cell_type": "markdown",
   "metadata": {},
   "source": [
    "Now that we know what indices to sample from, we can compute the samples. Here, since we created an example signal, and thus we know all $N$ time domain values that correspond to each query index, we can simply look up the value through `signal_t`. However, in practice, we can query these indices into a model or function to get the corresponding values.\n",
    "\n",
    "For the training samples, we save them out as a `M{i}_D{j}.pickle` file, which is a 1D numpy array of the values that correspond to the query indices from `M{i}_D{j}_queryindices.pickle`. For the test samples, we save them out to the dictionary `signal_t.pickle`, where the keys are the query indices in mixed-radix format, and the values are the corresponding values."
   ]
  },
  {
   "cell_type": "code",
   "execution_count": 7,
   "metadata": {},
   "outputs": [],
   "source": [
    "#compute training samples\n",
    "for i in range(num_subsample):\n",
    "        for j in range(num_repeat):\n",
    "            query_indices_file = os.path.join(exp_dir, \"train\", \"samples\", \"M{}_D{}_queryindices.pickle\".format(i, j))\n",
    "            query_indices = load_data(query_indices_file)\n",
    "            block_length = len(query_indices[0])\n",
    "            samples = np.zeros((len(query_indices), block_length), dtype=complex)\n",
    "            all_query_indices = np.concatenate(query_indices)\n",
    "            all_query_indices = all_query_indices.astype(int)\n",
    "            indices_tuple = tuple(all_query_indices.T)\n",
    "            all_samples = signal_t[indices_tuple]\n",
    "            for k in range(len(query_indices)):\n",
    "                start = k * block_length\n",
    "                end = (k + 1) * block_length\n",
    "                samples[k] = all_samples[start:end]\n",
    "            samples = samples.T\n",
    "            save_data(samples, os.path.join(exp_dir, \"train\", \"samples\", \"M{}_D{}.pickle\".format(i, j)))\n",
    "# compute test samples\n",
    "query_indices_file = os.path.join(exp_dir, \"test\", \"signal_t_queryindices.pickle\")\n",
    "query_indices = load_data(query_indices_file)\n",
    "query_indices = query_indices.T\n",
    "query_qaryindices_file = os.path.join(exp_dir, \"test\", \"signal_t_query_qaryindices.pickle\")\n",
    "query_qaryindices = load_data(query_qaryindices_file)\n",
    "sample_file = os.path.join(exp_dir, \"test\", \"signal_t.pickle\")\n",
    "block_length = len(query_indices[0])\n",
    "samples = np.zeros(len(query_indices), dtype=complex)\n",
    "samples_dict = {}\n",
    "for k in range(len(query_indices)):\n",
    "    index_vector = np.array(query_indices[k]).astype(int)\n",
    "    indices = query_indices[k].astype(int)\n",
    "    idx_tuple = tuple(indices.T)\n",
    "    samples[k] = signal_t[idx_tuple]\n",
    "samples_dict = dict(zip(query_qaryindices, samples))\n",
    "save_data(samples_dict, sample_file)\n"
   ]
  },
  {
   "cell_type": "markdown",
   "metadata": {},
   "source": [
    "## 3. Running GFast\n",
    "Now that we have queried the model for the indices of the query points, we can compute the Fourier transform using GFAST. We will use the `Helper` class to compute the GFAST transform."
   ]
  },
  {
   "cell_type": "code",
   "execution_count": 9,
   "metadata": {},
   "outputs": [
    {
     "name": "stderr",
     "output_type": "stream",
     "text": [
      "100%|██████████| 18/18 [00:00<00:00, 12514.08it/s]\n"
     ]
    }
   ],
   "source": [
    "query_args = {\n",
    "        \"query_method\": \"simple\", # Leave as simple \n",
    "        \"num_subsample\": num_subsample,\n",
    "        \"delays_method_source\": delays_method_source, \n",
    "        \"subsampling_method\": \"gfast\", \n",
    "        \"delays_method_channel\": delays_method_channel,\n",
    "        \"num_repeat\": num_repeat,\n",
    "        \"b\": b,\n",
    "        \"t\": n,\n",
    "        \"folder\": exp_dir \n",
    "    }\n",
    "signal_args = {\n",
    "                \"n\":n,\n",
    "                \"q\":q,\n",
    "                \"noise_sd\":noise_sd,\n",
    "                \"query_args\":query_args,\n",
    "                \"t\": n,\n",
    "                'banned_indices_toggle': True,\n",
    "                'banned_indices': banned_indices\n",
    "                }\n",
    "helper = Helper(signal_args=signal_args, methods=[\"gfast\"], subsampling_args=query_args, test_args=test_args, exp_dir=exp_dir)"
   ]
  },
  {
   "cell_type": "code",
   "execution_count": 10,
   "metadata": {},
   "outputs": [
    {
     "name": "stdout",
     "output_type": "stream",
     "text": [
      "Estimating GWHT coefficients with GFAST\n",
      "Transform Time:0.0036957263946533203\n",
      "cutoff =  0.08437500099999999\n",
      "-----\n",
      "iter  1\n",
      "(0, 0) 0.0019827295308462796 3.5437500419999997\n",
      "We have a Singleton at [0 0 1 2 2 1]\n",
      "We have a Zeroton\n",
      "(0, 2) 0.002879829022586127 3.5437500419999997\n",
      "We have a Singleton at [0 2 0 0 1 2]\n",
      "(0, 3) 0.0025368197273564217 3.5437500419999997\n",
      "We have a Singleton at [0 3 0 2 0 3]\n",
      "We have a Zeroton\n",
      "We have a Zeroton\n",
      "We have a Zeroton\n",
      "We have a Zeroton\n",
      "We have a Zeroton\n",
      "(0, 9) 0.002849875740525658 3.5437500419999997\n",
      "We have a Singleton at [2 1 2 1 2 0]\n",
      "(0, 10) 60.89584177538002 3.5437500419999997\n",
      "We have a Multiton\n",
      "(0, 11) 0.0016894409078733064 3.5437500419999997\n",
      "We have a Singleton at [2 3 0 1 2 0]\n",
      "We have a Zeroton\n",
      "We have a Zeroton\n",
      "(0, 14) 0.0034525735961703752 3.5437500419999997\n",
      "We have a Singleton at [3 2 1 1 1 2]\n",
      "(0, 15) 0.002271670936087207 3.5437500419999997\n",
      "We have a Singleton at [3 3 1 2 2 2]\n",
      "We have a Zeroton\n",
      "We have a Zeroton\n",
      "We have a Zeroton\n",
      "(1, 3) 0.004956104589572865 4.725000042\n",
      "We have a Singleton at [0 3 0 2 0 3]\n",
      "(1, 4) 0.0023935950390095726 4.725000042\n",
      "We have a Singleton at [2 2 1 0 1 0]\n",
      "We have a Zeroton\n",
      "(1, 6) 83.0977032143709 4.725000042\n",
      "We have a Multiton\n",
      "We have a Zeroton\n",
      "(1, 8) 78.87286553748376 4.725000042\n",
      "We have a Multiton\n",
      "(1, 9) 0.003751447102605201 4.725000042\n",
      "We have a Singleton at [0 0 1 2 2 1]\n",
      "(1, 10) 0.002523856543320703 4.725000042\n",
      "We have a Singleton at [3 3 1 2 2 2]\n",
      "We have a Zeroton\n",
      "(2, 0) 0.005819274392770722 6.300000042\n",
      "We have a Singleton at [0 2 0 0 1 2]\n",
      "(2, 1) 0.004926471760804854 6.300000042\n",
      "We have a Singleton at [2 3 0 1 2 0]\n",
      "(2, 2) 0.004875903889566433 6.300000042\n",
      "We have a Singleton at [0 3 0 2 0 3]\n",
      "(2, 3) 60.735495733877826 6.300000042\n",
      "We have a Multiton\n",
      "(2, 4) 0.004266770743168313 6.300000042\n",
      "We have a Singleton at [3 2 1 1 1 2]\n",
      "(2, 5) 40.77137293341353 6.300000042\n",
      "We have a Multiton\n",
      "We have a Zeroton\n",
      "(2, 7) 0.005661278010120027 6.300000042\n",
      "We have a Singleton at [2 1 2 1 2 0]\n",
      "We have a Zeroton\n",
      "singletons:\n",
      "\t((0, 0), (array([0, 0, 1, 2, 2, 1]), (0.8391890632855631-0.5363967797044656j))) 21\n",
      "\n",
      "\t((0, 2), (array([0, 2, 0, 0, 1, 2]), (-0.05545542415321251+0.9965765869702042j))) 36\n",
      "\n",
      "\t((0, 3), (array([0, 3, 0, 2, 0, 3]), (-0.5222417345845113-0.850790093024431j))) 59\n",
      "\n",
      "\t((0, 9), (array([2, 1, 2, 1, 2, 0]), (-0.37976050540352074+0.9255538964994532j))) 104\n",
      "\n",
      "\t((0, 11), (array([2, 3, 0, 1, 2, 0]), (0.39938432665527673+0.9160154814355027j))) 120\n",
      "\n",
      "\t((0, 14), (array([3, 2, 1, 1, 1, 2]), (0.9811185532187895-0.1890535268791722j))) 144\n",
      "\n",
      "\t((0, 15), (array([3, 3, 1, 2, 2, 2]), (0.15797279361363606-0.9880257360018376j))) 166\n",
      "\n",
      "\t((1, 3), (array([0, 3, 0, 2, 0, 3]), (-0.5235522282462729-0.8547117042760998j))) 59\n",
      "\n",
      "\t((1, 4), (array([2, 2, 1, 0, 1, 0]), (-0.9936244707866603-0.12482867885265013j))) 106\n",
      "\n",
      "\t((1, 9), (array([0, 0, 1, 2, 2, 1]), (0.8405891958252667-0.5363043223177123j))) 21\n",
      "\n",
      "\t((1, 10), (array([3, 3, 1, 2, 2, 2]), (0.15774821012842904-0.9864279009713465j))) 166\n",
      "\n",
      "\t((2, 0), (array([0, 2, 0, 0, 1, 2]), (-0.05393377003621908+1.0002487446320396j))) 36\n",
      "\n",
      "\t((2, 1), (array([2, 3, 0, 1, 2, 0]), (0.398554453948597+0.9152308418028917j))) 120\n",
      "\n",
      "\t((2, 2), (array([0, 3, 0, 2, 0, 3]), (-0.5239703604270174-0.8527915792150154j))) 59\n",
      "\n",
      "\t((2, 4), (array([3, 2, 1, 1, 1, 2]), (0.9837709355993322-0.19007717752316386j))) 144\n",
      "\n",
      "\t((2, 7), (array([2, 1, 2, 1, 2, 0]), (-0.3805787339510965+0.9258983606873897j))) 104\n",
      "\n",
      "Multitons : [(0, 10), (1, 6), (1, 8), (2, 3), (2, 5)]\n",
      "\n",
      "these balls will be peeled\n",
      "{(2, 3, 0, 1, 2, 0), (0, 3, 0, 2, 0, 3), (0, 2, 0, 0, 1, 2), (2, 2, 1, 0, 1, 0), (3, 3, 1, 2, 2, 2), (2, 1, 2, 1, 2, 0), (0, 0, 1, 2, 2, 1), (3, 2, 1, 1, 1, 2)}\n",
      "Processing Singleton [2840]\n",
      "[[2]\n",
      " [3]\n",
      " [0]\n",
      " [1]\n",
      " [2]\n",
      " [0]]\n",
      "The singleton appears in M(0), U(11)\n",
      "The singleton appears in M(1), U(8)\n",
      "The singleton appears in M(2), U(1)\n",
      "Peeled ball [2840] off bin (0, 11)\n",
      "Peeled ball [2840] off bin (1, 8)\n",
      "Peeled ball [2840] off bin (2, 1)\n",
      "Iteration Complete: The peeled indicies are:\n",
      "[2840]\n",
      "Processing Singleton [803]\n",
      "[[0]\n",
      " [3]\n",
      " [0]\n",
      " [2]\n",
      " [0]\n",
      " [3]]\n",
      "The singleton appears in M(0), U(3)\n",
      "The singleton appears in M(1), U(3)\n",
      "The singleton appears in M(2), U(2)\n",
      "Peeled ball [803] off bin (0, 3)\n",
      "Peeled ball [803] off bin (1, 3)\n",
      "Peeled ball [803] off bin (2, 2)\n",
      "Iteration Complete: The peeled indicies are:\n",
      "[ 803 2840]\n",
      "Processing Singleton [518]\n",
      "[[0]\n",
      " [2]\n",
      " [0]\n",
      " [0]\n",
      " [1]\n",
      " [2]]\n",
      "The singleton appears in M(0), U(2)\n",
      "The singleton appears in M(1), U(6)\n",
      "The singleton appears in M(2), U(0)\n",
      "Peeled ball [518] off bin (0, 2)\n",
      "Peeled ball [518] off bin (1, 6)\n",
      "Peeled ball [518] off bin (2, 0)\n",
      "Iteration Complete: The peeled indicies are:\n",
      "[ 518  803 2840]\n",
      "Processing Singleton [2628]\n",
      "[[2]\n",
      " [2]\n",
      " [1]\n",
      " [0]\n",
      " [1]\n",
      " [0]]\n",
      "The singleton appears in M(0), U(10)\n",
      "The singleton appears in M(1), U(4)\n",
      "The singleton appears in M(2), U(3)\n",
      "Peeled ball [2628] off bin (0, 10)\n",
      "Peeled ball [2628] off bin (1, 4)\n",
      "Peeled ball [2628] off bin (2, 3)\n",
      "Iteration Complete: The peeled indicies are:\n",
      "[ 518  803 2628 2840]\n",
      "Processing Singleton [3946]\n",
      "[[3]\n",
      " [3]\n",
      " [1]\n",
      " [2]\n",
      " [2]\n",
      " [2]]\n",
      "The singleton appears in M(0), U(15)\n",
      "The singleton appears in M(1), U(10)\n",
      "The singleton appears in M(2), U(5)\n",
      "Peeled ball [3946] off bin (0, 15)\n",
      "Peeled ball [3946] off bin (1, 10)\n",
      "Peeled ball [3946] off bin (2, 5)\n",
      "Iteration Complete: The peeled indicies are:\n",
      "[ 518  803 2628 2840 3946]\n",
      "Processing Singleton [2456]\n",
      "[[2]\n",
      " [1]\n",
      " [2]\n",
      " [1]\n",
      " [2]\n",
      " [0]]\n",
      "The singleton appears in M(0), U(9)\n",
      "The singleton appears in M(1), U(8)\n",
      "The singleton appears in M(2), U(7)\n",
      "Peeled ball [2456] off bin (0, 9)\n",
      "Peeled ball [2456] off bin (1, 8)\n",
      "Peeled ball [2456] off bin (2, 7)\n",
      "Iteration Complete: The peeled indicies are:\n",
      "[ 518  803 2456 2628 2840 3946]\n",
      "Processing Singleton [105]\n",
      "[[0]\n",
      " [0]\n",
      " [1]\n",
      " [2]\n",
      " [2]\n",
      " [1]]\n",
      "The singleton appears in M(0), U(0)\n",
      "The singleton appears in M(1), U(9)\n",
      "The singleton appears in M(2), U(5)\n",
      "Peeled ball [105] off bin (0, 0)\n",
      "Peeled ball [105] off bin (1, 9)\n",
      "Peeled ball [105] off bin (2, 5)\n",
      "Iteration Complete: The peeled indicies are:\n",
      "[ 105  518  803 2456 2628 2840 3946]\n",
      "Processing Singleton [3670]\n",
      "[[3]\n",
      " [2]\n",
      " [1]\n",
      " [1]\n",
      " [1]\n",
      " [2]]\n",
      "The singleton appears in M(0), U(14)\n",
      "The singleton appears in M(1), U(6)\n",
      "The singleton appears in M(2), U(4)\n",
      "Peeled ball [3670] off bin (0, 14)\n",
      "Peeled ball [3670] off bin (1, 6)\n",
      "Peeled ball [3670] off bin (2, 4)\n",
      "Iteration Complete: The peeled indicies are:\n",
      "[ 105  518  803 2456 2628 2840 3670 3946]\n",
      "-----\n",
      "iter  2\n",
      "We have a Zeroton\n",
      "We have a Zeroton\n",
      "We have a Zeroton\n",
      "We have a Zeroton\n",
      "We have a Zeroton\n",
      "We have a Zeroton\n",
      "We have a Zeroton\n",
      "We have a Zeroton\n",
      "We have a Zeroton\n",
      "We have a Zeroton\n",
      "(0, 10) 0.0027961002091249553 3.5437500419999997\n",
      "We have a Singleton at [2 2 1 0 2 0]\n",
      "We have a Zeroton\n",
      "We have a Zeroton\n",
      "We have a Zeroton\n",
      "We have a Zeroton\n",
      "We have a Zeroton\n",
      "We have a Zeroton\n",
      "We have a Zeroton\n",
      "We have a Zeroton\n",
      "We have a Zeroton\n",
      "We have a Zeroton\n",
      "We have a Zeroton\n",
      "We have a Zeroton\n",
      "We have a Zeroton\n",
      "(1, 8) 0.0044658641240011045 4.725000042\n",
      "We have a Singleton at [2 2 1 0 2 0]\n",
      "We have a Zeroton\n",
      "We have a Zeroton\n",
      "We have a Zeroton\n",
      "We have a Zeroton\n",
      "We have a Zeroton\n",
      "We have a Zeroton\n",
      "(2, 3) 0.00339280727389297 6.300000042\n",
      "We have a Singleton at [2 2 1 0 2 0]\n",
      "We have a Zeroton\n",
      "We have a Zeroton\n",
      "We have a Zeroton\n",
      "We have a Zeroton\n",
      "We have a Zeroton\n",
      "singletons:\n",
      "\t((0, 10), (array([2, 2, 1, 0, 2, 0]), (-0.9583698444179325-0.2874435365419744j))) 108\n",
      "\n",
      "\t((1, 8), (array([2, 2, 1, 0, 2, 0]), (-0.958236130971041-0.2888584397493052j))) 108\n",
      "\n",
      "\t((2, 3), (array([2, 2, 1, 0, 2, 0]), (-0.9563029373258156-0.29019053678896023j))) 108\n",
      "\n",
      "Multitons : []\n",
      "\n",
      "these balls will be peeled\n",
      "{(2, 2, 1, 0, 2, 0)}\n",
      "Processing Singleton [2632]\n",
      "[[2]\n",
      " [2]\n",
      " [1]\n",
      " [0]\n",
      " [2]\n",
      " [0]]\n",
      "The singleton appears in M(0), U(10)\n",
      "The singleton appears in M(1), U(8)\n",
      "The singleton appears in M(2), U(3)\n",
      "Peeled ball [2632] off bin (0, 10)\n",
      "Peeled ball [2632] off bin (1, 8)\n",
      "Peeled ball [2632] off bin (2, 3)\n",
      "Iteration Complete: The peeled indicies are:\n",
      "[ 105  518  803 2456 2628 2632 2840 3670 3946]\n",
      "Peeling Time:0.026197195053100586\n",
      "Found GWHT coefficients\n"
     ]
    }
   ],
   "source": [
    "#compute the Fourier transform\n",
    "model_kwargs = {}\n",
    "model_kwargs[\"num_subsample\"] = num_subsample\n",
    "model_kwargs[\"num_repeat\"] = num_repeat\n",
    "model_kwargs[\"b\"] = b\n",
    "model_kwargs[\"noise_sd\"] = noise_sd\n",
    "model_result = helper.compute_model(method=\"gfast\", model_kwargs=model_kwargs, report=True, verbosity=10)"
   ]
  },
  {
   "cell_type": "markdown",
   "metadata": {},
   "source": [
    "## Testing against our held-out test set\n",
    "Now that we have recovered the Fourier coefficients, we would like to see how accurate our reconstruction is. We can do this by computing the normalized mean squared error (NMSE) between the original signal and the reconstructed signal. This can be done either on the Fourier coefficients or the time-domain signal. Here we will take the Fourier transform of the entire time-domain signal and compare it to the original signal, but usulally a subset is needed for larger signals."
   ]
  },
  {
   "cell_type": "code",
   "execution_count": 11,
   "metadata": {},
   "outputs": [
    {
     "name": "stdout",
     "output_type": "stream",
     "text": [
      "NMSE: 0.00010924908371502428\n",
      "R^2: 0.9998681706392409\n"
     ]
    }
   ],
   "source": [
    "test_kwargs = {}\n",
    "test_kwargs[\"beta\"] = model_result.get(\"gwht\")\n",
    "nmse, r2 = helper.test_model(\"gfast\", **test_kwargs)\n",
    "print(f\"NMSE: {nmse}\")\n",
    "print(f\"R^2: {r2}\")"
   ]
  }
 ],
 "metadata": {
  "kernelspec": {
   "display_name": "fshap",
   "language": "python",
   "name": "python3"
  },
  "language_info": {
   "codemirror_mode": {
    "name": "ipython",
    "version": 3
   },
   "file_extension": ".py",
   "mimetype": "text/x-python",
   "name": "python",
   "nbconvert_exporter": "python",
   "pygments_lexer": "ipython3",
   "version": "3.10.14"
  }
 },
 "nbformat": 4,
 "nbformat_minor": 2
}
